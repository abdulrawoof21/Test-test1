{
 "cells": [
  {
   "cell_type": "markdown",
   "id": "8b8207cc",
   "metadata": {},
   "source": [
    "# Use the following information to answer the next five exercises. A random sample of ten professional athletes produced the following data where x is the number of endorsements the player has and y is the amount of money made (in millions of dollars)."
   ]
  },
  {
   "cell_type": "code",
   "execution_count": 1,
   "id": "60ed0192",
   "metadata": {},
   "outputs": [],
   "source": [
    "x=[0,3,2,1,5,5,4,3,0,4]\n",
    "y=[2,8,7,3,13,12,9,9,3,10]"
   ]
  },
  {
   "cell_type": "markdown",
   "id": "e5c74c5a",
   "metadata": {},
   "source": [
    "Scatter Plot"
   ]
  },
  {
   "cell_type": "code",
   "execution_count": 2,
   "id": "532f8002",
   "metadata": {},
   "outputs": [
    {
     "data": {
      "image/png": "[encoded data removed]",
      "text/plain": [
       "<Figure size 432x288 with 1 Axes>"
      ]
     },
     "metadata": {
      "needs_background": "light"
     },
     "output_type": "display_data"
    }
   ],
   "source": [
    "import matplotlib.pyplot as mp\n",
    "mp.xlabel('Endorsements')\n",
    "mp.ylabel('Money Made')\n",
    "mp.scatter(x,y)\n",
    "mp.show()"
   ]
  },
  {
   "cell_type": "markdown",
   "id": "2a9b5a69",
   "metadata": {},
   "source": [
    "# Use regression to find the equation for the line of best fit."
   ]
  },
  {
   "cell_type": "code",
   "execution_count": 3,
   "id": "df0b246b",
   "metadata": {},
   "outputs": [],
   "source": [
    "def slope(x,y):\n",
    "    return (y[1]-y[0])/(x[1]-x[0])\n",
    "def predi(i):\n",
    "    return m*i+b\n",
    "m=slope(x,y)\n",
    "b = 2 - m*0"
   ]
  },
  {
   "cell_type": "markdown",
   "id": "e4b56f64",
   "metadata": {},
   "source": [
    "# Draw the line of best fit on the scatter plot."
   ]
  },
  {
   "cell_type": "code",
   "execution_count": 4,
   "id": "81b87f5f",
   "metadata": {},
   "outputs": [],
   "source": [
    "pred = [predi(x[i]) for i in range(len(x))]"
   ]
  },
  {
   "cell_type": "code",
   "execution_count": 5,
   "id": "d89b4c8e",
   "metadata": {},
   "outputs": [
    {
     "data": {
      "text/plain": [
       "[<matplotlib.lines.Line2D at 0x17e6b3478e0>]"
      ]
     },
     "execution_count": 5,
     "metadata": {},
     "output_type": "execute_result"
    },
    {
     "data": {
      "image/png": "[encoded data removed]",
      "text/plain": [
       "<Figure size 432x288 with 1 Axes>"
      ]
     },
     "metadata": {
      "needs_background": "light"
     },
     "output_type": "display_data"
    }
   ],
   "source": [
    "mp.scatter(x,y)\n",
    "mp.plot(x,pred,c='black')"
   ]
  },
  {
   "cell_type": "markdown",
   "id": "044b3b03",
   "metadata": {},
   "source": [
    "# What is the slope of the line of best fit? What does it represent?"
   ]
  },
  {
   "cell_type": "code",
   "execution_count": 6,
   "id": "b329bc90",
   "metadata": {},
   "outputs": [
    {
     "name": "stdout",
     "output_type": "stream",
     "text": [
      "The slope of the line of best fit  2.0\n"
     ]
    }
   ],
   "source": [
    "print('The slope of the line of best fit ',m)"
   ]
  },
  {
   "cell_type": "markdown",
   "id": "056995ba",
   "metadata": {},
   "source": [
    "The slope is defined by the amount of rise, divided by the amount of run. If the values of the response variable go downward as the values of the explanatory variable go upward, then the regression line has a negative slope. If on the other hand the values of the response variable go upward as the values of the explanatory variable go upward, then the slope will be positive"
   ]
  },
  {
   "cell_type": "markdown",
   "id": "3ce1d67c",
   "metadata": {},
   "source": [
    "# What is the y-intercept of the line of best fit? What does it represent?"
   ]
  },
  {
   "cell_type": "code",
   "execution_count": 8,
   "id": "ba88548e",
   "metadata": {},
   "outputs": [
    {
     "name": "stdout",
     "output_type": "stream",
     "text": [
      "The y-intercept of the line of best fit  2.0\n"
     ]
    }
   ],
   "source": [
    "print('The y-intercept of the line of best fit ',b)"
   ]
  },
  {
   "cell_type": "markdown",
   "id": "2db0c298",
   "metadata": {},
   "source": [
    "The y-intercept of a line is the value of y where the line crosses the y-axis."
   ]
  },
  {
   "cell_type": "markdown",
   "id": "f9a01cbb",
   "metadata": {},
   "source": [
    "# What does an r value of zero mean?"
   ]
  },
  {
   "cell_type": "markdown",
   "id": "4257f7e5",
   "metadata": {},
   "source": [
    "It means zero correlation.The correlation statistic does not indicate a relationship between the two variables"
   ]
  },
  {
   "cell_type": "markdown",
   "id": "4d49bd22",
   "metadata": {},
   "source": [
    "# When n = 2 and r = 1, are the data significant? Explain."
   ]
  },
  {
   "cell_type": "markdown",
   "id": "4ad020e7",
   "metadata": {},
   "source": [
    "Regardless of the size, a correlation r of +1 indicates a perfect positive correlation, meaning that both variables move in the same direction together"
   ]
  },
  {
   "cell_type": "markdown",
   "id": "cb6155c3",
   "metadata": {},
   "source": [
    "# When n = 100 and r = -0.89, is there a significant correlation? Explain."
   ]
  },
  {
   "cell_type": "code",
   "execution_count": null,
   "id": "80044a86",
   "metadata": {},
   "outputs": [],
   "source": [
    "Regardless of the size, a correlation of –1 indicates a perfect negative correlation, meaning that as one variable goes up, the other goes down."
   ]
  }
 ],
 "metadata": {
  "kernelspec": {
   "display_name": "Python 3 (ipykernel)",
   "language": "python",
   "name": "python3"
  },
  "language_info": {
   "codemirror_mode": {
    "name": "ipython",
    "version": 3
   },
   "file_extension": ".py",
   "mimetype": "text/x-python",
   "name": "python",
   "nbconvert_exporter": "python",
   "pygments_lexer": "ipython3",
   "version": "3.9.12"
  }
 },
 "nbformat": 4,
 "nbformat_minor": 5
}
